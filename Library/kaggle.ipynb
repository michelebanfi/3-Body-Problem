{
 "cells": [
  {
   "cell_type": "code",
   "id": "initial_id",
   "metadata": {
    "collapsed": true
   },
   "source": [
    "import numpy as np\n",
    "import matplotlib.pyplot as plt\n",
    "from reservoirpy.nodes import Reservoir, Ridge\n",
    "from reservoirpy.observables import nrmse, rsquare\n",
    "from reservoirpy.datasets import lorenz\n",
    "import reservoirpy as rpy\n",
    "from reservoirpy.datasets import to_forecasting\n",
    "from reservoirpy.hyper import research\n",
    "from reservoirpy.hyper import plot_hyperopt_report\n",
    "import seaborn\n",
    "import hyperopt\n",
    "import json"
   ],
   "outputs": [],
   "execution_count": null
  },
  {
   "metadata": {},
   "cell_type": "code",
   "source": [
    "timesteps = 2000\n",
    "x0 = [1.0, 1.0, 1.0]\n",
    "X = lorenz(timesteps, x0=x0)"
   ],
   "id": "db6fb65a77c2cb49",
   "outputs": [],
   "execution_count": null
  },
  {
   "metadata": {},
   "cell_type": "code",
   "source": [
    "# Objective functions accepted by ReservoirPy must respect some conventions:\n",
    "#  - dataset and config arguments are mandatory, like the empty '*' expression.\n",
    "#  - all parameters that will be used during the search must be placed after the *.\n",
    "#  - the function must return a dict with at least a 'loss' key containing the result of the loss function.\n",
    "# You can add any additional metrics or information with other keys in the dict. See hyperopt documentation for more informations.\n",
    "def objective(dataset, config, *, input_scaling, N, sr, lr, ridge, seed):\n",
    "    # This step may vary depending on what you put inside 'dataset'\n",
    "    x_train, y_train, x_test, y_test = dataset\n",
    "    \n",
    "    # You can access anything you put in the config file from the 'config' parameter.\n",
    "    instances = config[\"instances_per_trial\"]\n",
    "    \n",
    "    # The seed should be changed across the instances to be sure there is no bias in the results due to initialization.\n",
    "    variable_seed = seed \n",
    "    \n",
    "    losses = []; r2s = [];\n",
    "    for n in range(instances):\n",
    "        # Build your model given the input parameters\n",
    "        reservoir = Reservoir(\n",
    "            units=N, \n",
    "            sr=sr, \n",
    "            lr=lr, \n",
    "            input_scaling=input_scaling, \n",
    "            seed=variable_seed\n",
    "        )\n",
    "\n",
    "        readout = Ridge(ridge=ridge)\n",
    "\n",
    "        model = reservoir >> readout\n",
    "\n",
    "\n",
    "        # Train your model and test your model.\n",
    "        predictions = model.fit(x_train, y_train) \\\n",
    "                           .run(x_test)\n",
    "        \n",
    "        loss = nrmse(y_test, predictions, norm_value=np.ptp(x_train))\n",
    "        r2 = rsquare(y_test, predictions)\n",
    "        \n",
    "        # Change the seed between instances\n",
    "        variable_seed += 1\n",
    "        \n",
    "        losses.append(loss)\n",
    "        r2s.append(r2)\n",
    "\n",
    "    # Return a dictionnary of metrics. The 'loss' key is mandatory when using hyperopt.\n",
    "    return {'loss': np.mean(losses),\n",
    "            'r2': np.mean(r2s)}"
   ],
   "id": "dc3cea932d464fdc",
   "outputs": [],
   "execution_count": null
  },
  {
   "metadata": {},
   "cell_type": "code",
   "source": [
    "hyperopt_config = {\n",
    "    \"exp\": \"hyperopt-lorenz\",    # the experimentation name\n",
    "    \"hp_max_evals\": 200,              # the number of differents sets of parameters hyperopt has to try\n",
    "    \"hp_method\": \"random\",            # the method used by hyperopt to chose those sets (see below)\n",
    "    \"seed\": 42,                       # the random state seed, to ensure reproducibility\n",
    "    \"instances_per_trial\": 5,         # how many random ESN will be tried with each sets of parameters\n",
    "    \"hp_space\": {                     # what are the ranges of parameters explored\n",
    "        \"N\": [\"loguniform\", 400, 600],             # the number of neurons is fixed to 500\n",
    "        \"sr\": [\"loguniform\", 1e-2, 10],   # the spectral radius is log-uniformly distributed between 1e-2 and 10\n",
    "        \"lr\": [\"loguniform\", 1e-3, 1],    # idem with the leaking rate, from 1e-3 to 1\n",
    "        \"input_scaling\": [\"choice\", 1.0], # the input scaling is fixed\n",
    "        \"ridge\": [\"loguniform\", 1e-8, 1e1],        # and so is the regularization parameter.\n",
    "        \"seed\": [\"choice\", 1234]          # an other random seed for the ESN initialization\n",
    "    }\n",
    "}\n",
    "\n",
    "# we precautionously save the configuration in a JSON file\n",
    "# each file will begin with a number corresponding to the current experimentation run number.\n",
    "with open(f\"{hyperopt_config['exp']}.config.json\", \"w+\") as f:\n",
    "    json.dump(hyperopt_config, f)"
   ],
   "id": "c0b6a768ebe2e7e2",
   "outputs": [],
   "execution_count": null
  },
  {
   "metadata": {},
   "cell_type": "code",
   "source": [
    "train_len = 1200\n",
    "forecast = 10\n",
    "\n",
    "X_train = X[:train_len]\n",
    "Y_train = X[forecast : train_len + forecast]\n",
    "\n",
    "X_test = X[train_len : -forecast]\n",
    "Y_test = X[train_len + forecast:]\n",
    "\n",
    "dataset = (X_train, Y_train, X_test, Y_test)"
   ],
   "id": "2d816fbd8716b4e3",
   "outputs": [],
   "execution_count": null
  },
  {
   "metadata": {},
   "cell_type": "code",
   "source": "X_train, X_test, Y_train, Y_test = to_forecasting(X, forecast=forecast, test_size=train_len-forecast)",
   "id": "ed0c55e84da76011",
   "outputs": [],
   "execution_count": null
  },
  {
   "metadata": {},
   "cell_type": "code",
   "source": "best = research(objective, dataset, f\"{hyperopt_config['exp']}.config.json\", \".\")",
   "id": "4d6aad3f3a727407",
   "outputs": [],
   "execution_count": null
  },
  {
   "metadata": {},
   "cell_type": "code",
   "outputs": [],
   "execution_count": null,
   "source": [
    "# print the best parameters found by hyperopt\n",
    "print(best)"
   ],
   "id": "4b3e6e8222c15764"
  },
  {
   "metadata": {},
   "cell_type": "code",
   "source": [
    "# plot and save the plots\n",
    "fig = plot_hyperopt_report(hyperopt_config[\"exp\"], (\"lr\", \"sr\", \"ridge\"), metric=\"r2\")\n",
    "fig.savefig(f\"{hyperopt_config['exp']}.png\")"
   ],
   "id": "8818f663b28db3ea",
   "outputs": [],
   "execution_count": null
  }
 ],
 "metadata": {
  "kernelspec": {
   "display_name": "Python 3",
   "language": "python",
   "name": "python3"
  },
  "language_info": {
   "codemirror_mode": {
    "name": "ipython",
    "version": 2
   },
   "file_extension": ".py",
   "mimetype": "text/x-python",
   "name": "python",
   "nbconvert_exporter": "python",
   "pygments_lexer": "ipython2",
   "version": "2.7.6"
  }
 },
 "nbformat": 4,
 "nbformat_minor": 5
}
