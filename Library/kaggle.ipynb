{
 "cells": [
  {
   "cell_type": "code",
   "id": "initial_id",
   "metadata": {
    "collapsed": true,
    "ExecuteTime": {
     "end_time": "2024-07-03T09:01:58.664813Z",
     "start_time": "2024-07-03T09:01:58.093346Z"
    }
   },
   "source": [
    "import numpy as np\n",
    "import matplotlib.pyplot as plt\n",
    "from reservoirpy.nodes import Reservoir, Ridge\n",
    "from reservoirpy.observables import nrmse, rsquare\n",
    "from reservoirpy.datasets import lorenz\n",
    "import reservoirpy as rpy\n",
    "from reservoirpy.datasets import to_forecasting\n",
    "from reservoirpy.hyper import research\n",
    "from reservoirpy.hyper import plot_hyperopt_report\n",
    "import seaborn\n",
    "import hyperopt\n",
    "import json"
   ],
   "outputs": [],
   "execution_count": 1
  },
  {
   "metadata": {
    "ExecuteTime": {
     "end_time": "2024-07-03T09:02:13.295139Z",
     "start_time": "2024-07-03T09:02:13.134454Z"
    }
   },
   "cell_type": "code",
   "source": [
    "timesteps = 2000\n",
    "x0 = [1.0, 1.0, 1.0]\n",
    "X = lorenz(timesteps, x0=x0)"
   ],
   "id": "db6fb65a77c2cb49",
   "outputs": [],
   "execution_count": 2
  },
  {
   "metadata": {
    "ExecuteTime": {
     "end_time": "2024-07-03T09:02:15.409531Z",
     "start_time": "2024-07-03T09:02:15.386968Z"
    }
   },
   "cell_type": "code",
   "source": [
    "# Objective functions accepted by ReservoirPy must respect some conventions:\n",
    "#  - dataset and config arguments are mandatory, like the empty '*' expression.\n",
    "#  - all parameters that will be used during the search must be placed after the *.\n",
    "#  - the function must return a dict with at least a 'loss' key containing the result of the loss function.\n",
    "# You can add any additional metrics or information with other keys in the dict. See hyperopt documentation for more informations.\n",
    "def objective(dataset, config, *, input_scaling, N, sr, lr, ridge, seed):\n",
    "    # This step may vary depending on what you put inside 'dataset'\n",
    "    x_train, y_train, x_test, y_test = dataset\n",
    "    \n",
    "    # You can access anything you put in the config file from the 'config' parameter.\n",
    "    instances = config[\"instances_per_trial\"]\n",
    "    \n",
    "    # The seed should be changed across the instances to be sure there is no bias in the results due to initialization.\n",
    "    variable_seed = seed \n",
    "    \n",
    "    losses = []; r2s = [];\n",
    "    for n in range(instances):\n",
    "        # Build your model given the input parameters\n",
    "        reservoir = Reservoir(\n",
    "            units=N, \n",
    "            sr=sr, \n",
    "            lr=lr, \n",
    "            input_scaling=input_scaling, \n",
    "            seed=variable_seed\n",
    "        )\n",
    "\n",
    "        readout = Ridge(ridge=ridge)\n",
    "\n",
    "        model = reservoir >> readout\n",
    "\n",
    "\n",
    "        # Train your model and test your model.\n",
    "        predictions = model.fit(x_train, y_train) \\\n",
    "                           .run(x_test)\n",
    "        \n",
    "        loss = nrmse(y_test, predictions, norm_value=np.ptp(x_train))\n",
    "        r2 = rsquare(y_test, predictions)\n",
    "        \n",
    "        # Change the seed between instances\n",
    "        variable_seed += 1\n",
    "        \n",
    "        losses.append(loss)\n",
    "        r2s.append(r2)\n",
    "\n",
    "    # Return a dictionnary of metrics. The 'loss' key is mandatory when using hyperopt.\n",
    "    return {'loss': np.mean(losses),\n",
    "            'r2': np.mean(r2s)}"
   ],
   "id": "dc3cea932d464fdc",
   "outputs": [],
   "execution_count": 3
  },
  {
   "metadata": {
    "ExecuteTime": {
     "end_time": "2024-07-03T11:28:49.341850Z",
     "start_time": "2024-07-03T11:28:49.335687Z"
    }
   },
   "cell_type": "code",
   "source": [
    "hyperopt_config = {\n",
    "    \"exp\": \"hyperopt-lorenz\",    # the experimentation name\n",
    "    \"hp_max_evals\": 200,              # the number of differents sets of parameters hyperopt has to try\n",
    "    \"hp_method\": \"random\",            # the method used by hyperopt to chose those sets (see below)\n",
    "    \"seed\": 42,                       # the random state seed, to ensure reproducibility\n",
    "    \"instances_per_trial\": 5,         # how many random ESN will be tried with each sets of parameters\n",
    "    \"hp_space\": {                     # what are the ranges of parameters explored\n",
    "        \"N\": [\"quniform\", 400, 600, 1],             # the number of neurons is fixed to 500\n",
    "        \"sr\": [\"choice\", 1.367163082884632],   # the spectral radius is log-uniformly distributed between 1e-2 and 10\n",
    "        \"lr\": [\"choice\", 0.4865716163619631],    # idem with the leaking rate, from 1e-3 to 1\n",
    "        \"input_scaling\": [\"choice\", 1.0], # the input scaling is fixed\n",
    "        \"ridge\": [\"choice\", 0.06277358548329898],        # and so is the regularization parameter.\n",
    "        \"seed\": [\"choice\", 1234]          # an other random seed for the ESN initialization\n",
    "    }\n",
    "}\n",
    "\n",
    "# we precautionously save the configuration in a JSON file\n",
    "# each file will begin with a number corresponding to the current experimentation run number.\n",
    "with open(f\"{hyperopt_config['exp']}.config.json\", \"w+\") as f:\n",
    "    json.dump(hyperopt_config, f)"
   ],
   "id": "c0b6a768ebe2e7e2",
   "outputs": [],
   "execution_count": 40
  },
  {
   "metadata": {
    "ExecuteTime": {
     "end_time": "2024-07-03T11:28:49.802179Z",
     "start_time": "2024-07-03T11:28:49.796310Z"
    }
   },
   "cell_type": "code",
   "source": [
    "train_len = 1200\n",
    "forecast = 10\n",
    "\n",
    "X_train = X[:train_len]\n",
    "Y_train = X[forecast : train_len + forecast]\n",
    "\n",
    "X_test = X[train_len : -forecast]\n",
    "Y_test = X[train_len + forecast:]\n",
    "\n",
    "dataset = (X_train, Y_train, X_test, Y_test)"
   ],
   "id": "2d816fbd8716b4e3",
   "outputs": [],
   "execution_count": 41
  },
  {
   "metadata": {
    "ExecuteTime": {
     "end_time": "2024-07-03T11:28:50.330564Z",
     "start_time": "2024-07-03T11:28:50.327028Z"
    }
   },
   "cell_type": "code",
   "source": "X_train, X_test, Y_train, Y_test = to_forecasting(X, forecast=forecast, test_size=train_len-forecast)",
   "id": "ed0c55e84da76011",
   "outputs": [],
   "execution_count": 42
  },
  {
   "metadata": {
    "ExecuteTime": {
     "end_time": "2024-07-03T11:28:50.969026Z",
     "start_time": "2024-07-03T11:28:50.806341Z"
    }
   },
   "cell_type": "code",
   "source": "best = research(objective, dataset, f\"{hyperopt_config['exp']}.config.json\", \".\")",
   "id": "4d6aad3f3a727407",
   "outputs": [
    {
     "name": "stdout",
     "output_type": "stream",
     "text": [
      "================================================================================\n",
      "ERROR in rec_eval                                      \n",
      "EXCEPTION                                              \n",
      "<class 'TypeError'>                                    \n",
      "quniform() missing 2 required positional arguments: 'high' and 'q'\n",
      "NODE                                                   \n",
      "0 quniform                                             \n",
      "1   idxs_take\n",
      "2     array_union\n",
      "3       array_union\n",
      "4         array_union\n",
      "5           array_union\n",
      "6             Literal{new_ids}\n",
      "7     idxs_map\n",
      "8       array_union  [line:2]\n",
      "9       Literal{pos_args}\n",
      "10       pos_args\n",
      "11         array_union  [line:2]\n",
      "12         idxs_take\n",
      "13           array_union\n",
      "14             Literal{new_ids}  [line:6]\n",
      "15           asarray\n",
      "16             repeat\n",
      "17               len\n",
      "18                 Literal{new_ids}  [line:6]\n",
      "19               Literal{400}\n",
      "20           array_union  [line:2]\n",
      "21       pos_args\n",
      "22         array_union  [line:2]\n",
      "23         idxs_take\n",
      "24           array_union\n",
      "25             Literal{new_ids}  [line:6]\n",
      "26           asarray\n",
      "27             repeat\n",
      "28               len\n",
      "29                 Literal{new_ids}  [line:6]\n",
      "30               Literal{600}\n",
      "31           array_union  [line:2]\n",
      "32       pos_args\n",
      "33         array_union  [line:2]\n",
      "34         idxs_take\n",
      "35           array_union\n",
      "36             Literal{new_ids}  [line:6]\n",
      "37           asarray\n",
      "38             repeat\n",
      "39               len\n",
      "40                 Literal{new_ids}  [line:6]\n",
      "41               Literal{1}\n",
      "42           array_union  [line:2]\n",
      "43     array_union  [line:3]\n",
      "44  size =\n",
      "45   len\n",
      "46     array_union  [line:3]\n",
      "47  rng =\n",
      "48   Literal{rng-placeholder}\n",
      "================================================================================\n",
      "  0%|          | 0/200 [00:00<?, ?trial/s, best loss=?]\n"
     ]
    },
    {
     "ename": "TypeError",
     "evalue": "quniform() missing 2 required positional arguments: 'high' and 'q'",
     "output_type": "error",
     "traceback": [
      "\u001B[0;31m---------------------------------------------------------------------------\u001B[0m",
      "\u001B[0;31mTypeError\u001B[0m                                 Traceback (most recent call last)",
      "Cell \u001B[0;32mIn[43], line 1\u001B[0m\n\u001B[0;32m----> 1\u001B[0m best \u001B[38;5;241m=\u001B[39m research(objective, dataset, \u001B[38;5;124mf\u001B[39m\u001B[38;5;124m\"\u001B[39m\u001B[38;5;132;01m{\u001B[39;00mhyperopt_config[\u001B[38;5;124m'\u001B[39m\u001B[38;5;124mexp\u001B[39m\u001B[38;5;124m'\u001B[39m]\u001B[38;5;132;01m}\u001B[39;00m\u001B[38;5;124m.config.json\u001B[39m\u001B[38;5;124m\"\u001B[39m, \u001B[38;5;124m\"\u001B[39m\u001B[38;5;124m.\u001B[39m\u001B[38;5;124m\"\u001B[39m)\n",
      "File \u001B[0;32m/opt/anaconda3/envs/ProgettoAi/lib/python3.11/site-packages/reservoirpy/hyper/_hypersearch.py:187\u001B[0m, in \u001B[0;36mresearch\u001B[0;34m(objective, dataset, config_path, report_path)\u001B[0m\n\u001B[1;32m    184\u001B[0m \u001B[38;5;28;01melse\u001B[39;00m:\n\u001B[1;32m    185\u001B[0m     rs \u001B[38;5;241m=\u001B[39m np\u001B[38;5;241m.\u001B[39mrandom\u001B[38;5;241m.\u001B[39mdefault_rng(config[\u001B[38;5;124m\"\u001B[39m\u001B[38;5;124mseed\u001B[39m\u001B[38;5;124m\"\u001B[39m])\n\u001B[0;32m--> 187\u001B[0m best \u001B[38;5;241m=\u001B[39m hopt\u001B[38;5;241m.\u001B[39mfmin(\n\u001B[1;32m    188\u001B[0m     objective_wrapper,\n\u001B[1;32m    189\u001B[0m     space\u001B[38;5;241m=\u001B[39msearch_space,\n\u001B[1;32m    190\u001B[0m     algo\u001B[38;5;241m=\u001B[39mconfig[\u001B[38;5;124m\"\u001B[39m\u001B[38;5;124mhp_method\u001B[39m\u001B[38;5;124m\"\u001B[39m],\n\u001B[1;32m    191\u001B[0m     max_evals\u001B[38;5;241m=\u001B[39mconfig[\u001B[38;5;124m\"\u001B[39m\u001B[38;5;124mhp_max_evals\u001B[39m\u001B[38;5;124m\"\u001B[39m],\n\u001B[1;32m    192\u001B[0m     trials\u001B[38;5;241m=\u001B[39mtrials,\n\u001B[1;32m    193\u001B[0m     rstate\u001B[38;5;241m=\u001B[39mrs,\n\u001B[1;32m    194\u001B[0m )\n\u001B[1;32m    196\u001B[0m \u001B[38;5;28;01mreturn\u001B[39;00m best, trials\n",
      "File \u001B[0;32m/opt/anaconda3/envs/ProgettoAi/lib/python3.11/site-packages/hyperopt/fmin.py:540\u001B[0m, in \u001B[0;36mfmin\u001B[0;34m(fn, space, algo, max_evals, timeout, loss_threshold, trials, rstate, allow_trials_fmin, pass_expr_memo_ctrl, catch_eval_exceptions, verbose, return_argmin, points_to_evaluate, max_queue_len, show_progressbar, early_stop_fn, trials_save_file)\u001B[0m\n\u001B[1;32m    537\u001B[0m     fn \u001B[38;5;241m=\u001B[39m __objective_fmin_wrapper(fn)\n\u001B[1;32m    539\u001B[0m \u001B[38;5;28;01mif\u001B[39;00m allow_trials_fmin \u001B[38;5;129;01mand\u001B[39;00m \u001B[38;5;28mhasattr\u001B[39m(trials, \u001B[38;5;124m\"\u001B[39m\u001B[38;5;124mfmin\u001B[39m\u001B[38;5;124m\"\u001B[39m):\n\u001B[0;32m--> 540\u001B[0m     \u001B[38;5;28;01mreturn\u001B[39;00m trials\u001B[38;5;241m.\u001B[39mfmin(\n\u001B[1;32m    541\u001B[0m         fn,\n\u001B[1;32m    542\u001B[0m         space,\n\u001B[1;32m    543\u001B[0m         algo\u001B[38;5;241m=\u001B[39malgo,\n\u001B[1;32m    544\u001B[0m         max_evals\u001B[38;5;241m=\u001B[39mmax_evals,\n\u001B[1;32m    545\u001B[0m         timeout\u001B[38;5;241m=\u001B[39mtimeout,\n\u001B[1;32m    546\u001B[0m         loss_threshold\u001B[38;5;241m=\u001B[39mloss_threshold,\n\u001B[1;32m    547\u001B[0m         max_queue_len\u001B[38;5;241m=\u001B[39mmax_queue_len,\n\u001B[1;32m    548\u001B[0m         rstate\u001B[38;5;241m=\u001B[39mrstate,\n\u001B[1;32m    549\u001B[0m         pass_expr_memo_ctrl\u001B[38;5;241m=\u001B[39mpass_expr_memo_ctrl,\n\u001B[1;32m    550\u001B[0m         verbose\u001B[38;5;241m=\u001B[39mverbose,\n\u001B[1;32m    551\u001B[0m         catch_eval_exceptions\u001B[38;5;241m=\u001B[39mcatch_eval_exceptions,\n\u001B[1;32m    552\u001B[0m         return_argmin\u001B[38;5;241m=\u001B[39mreturn_argmin,\n\u001B[1;32m    553\u001B[0m         show_progressbar\u001B[38;5;241m=\u001B[39mshow_progressbar,\n\u001B[1;32m    554\u001B[0m         early_stop_fn\u001B[38;5;241m=\u001B[39mearly_stop_fn,\n\u001B[1;32m    555\u001B[0m         trials_save_file\u001B[38;5;241m=\u001B[39mtrials_save_file,\n\u001B[1;32m    556\u001B[0m     )\n\u001B[1;32m    558\u001B[0m \u001B[38;5;28;01mif\u001B[39;00m trials \u001B[38;5;129;01mis\u001B[39;00m \u001B[38;5;28;01mNone\u001B[39;00m:\n\u001B[1;32m    559\u001B[0m     \u001B[38;5;28;01mif\u001B[39;00m os\u001B[38;5;241m.\u001B[39mpath\u001B[38;5;241m.\u001B[39mexists(trials_save_file):\n",
      "File \u001B[0;32m/opt/anaconda3/envs/ProgettoAi/lib/python3.11/site-packages/hyperopt/base.py:671\u001B[0m, in \u001B[0;36mTrials.fmin\u001B[0;34m(self, fn, space, algo, max_evals, timeout, loss_threshold, max_queue_len, rstate, verbose, pass_expr_memo_ctrl, catch_eval_exceptions, return_argmin, show_progressbar, early_stop_fn, trials_save_file)\u001B[0m\n\u001B[1;32m    666\u001B[0m \u001B[38;5;66;03m# -- Stop-gap implementation!\u001B[39;00m\n\u001B[1;32m    667\u001B[0m \u001B[38;5;66;03m#    fmin should have been a Trials method in the first place\u001B[39;00m\n\u001B[1;32m    668\u001B[0m \u001B[38;5;66;03m#    but for now it's still sitting in another file.\u001B[39;00m\n\u001B[1;32m    669\u001B[0m \u001B[38;5;28;01mfrom\u001B[39;00m \u001B[38;5;21;01m.\u001B[39;00m\u001B[38;5;21;01mfmin\u001B[39;00m \u001B[38;5;28;01mimport\u001B[39;00m fmin\n\u001B[0;32m--> 671\u001B[0m \u001B[38;5;28;01mreturn\u001B[39;00m fmin(\n\u001B[1;32m    672\u001B[0m     fn,\n\u001B[1;32m    673\u001B[0m     space,\n\u001B[1;32m    674\u001B[0m     algo\u001B[38;5;241m=\u001B[39malgo,\n\u001B[1;32m    675\u001B[0m     max_evals\u001B[38;5;241m=\u001B[39mmax_evals,\n\u001B[1;32m    676\u001B[0m     timeout\u001B[38;5;241m=\u001B[39mtimeout,\n\u001B[1;32m    677\u001B[0m     loss_threshold\u001B[38;5;241m=\u001B[39mloss_threshold,\n\u001B[1;32m    678\u001B[0m     trials\u001B[38;5;241m=\u001B[39m\u001B[38;5;28mself\u001B[39m,\n\u001B[1;32m    679\u001B[0m     rstate\u001B[38;5;241m=\u001B[39mrstate,\n\u001B[1;32m    680\u001B[0m     verbose\u001B[38;5;241m=\u001B[39mverbose,\n\u001B[1;32m    681\u001B[0m     max_queue_len\u001B[38;5;241m=\u001B[39mmax_queue_len,\n\u001B[1;32m    682\u001B[0m     allow_trials_fmin\u001B[38;5;241m=\u001B[39m\u001B[38;5;28;01mFalse\u001B[39;00m,  \u001B[38;5;66;03m# -- prevent recursion\u001B[39;00m\n\u001B[1;32m    683\u001B[0m     pass_expr_memo_ctrl\u001B[38;5;241m=\u001B[39mpass_expr_memo_ctrl,\n\u001B[1;32m    684\u001B[0m     catch_eval_exceptions\u001B[38;5;241m=\u001B[39mcatch_eval_exceptions,\n\u001B[1;32m    685\u001B[0m     return_argmin\u001B[38;5;241m=\u001B[39mreturn_argmin,\n\u001B[1;32m    686\u001B[0m     show_progressbar\u001B[38;5;241m=\u001B[39mshow_progressbar,\n\u001B[1;32m    687\u001B[0m     early_stop_fn\u001B[38;5;241m=\u001B[39mearly_stop_fn,\n\u001B[1;32m    688\u001B[0m     trials_save_file\u001B[38;5;241m=\u001B[39mtrials_save_file,\n\u001B[1;32m    689\u001B[0m )\n",
      "File \u001B[0;32m/opt/anaconda3/envs/ProgettoAi/lib/python3.11/site-packages/hyperopt/fmin.py:586\u001B[0m, in \u001B[0;36mfmin\u001B[0;34m(fn, space, algo, max_evals, timeout, loss_threshold, trials, rstate, allow_trials_fmin, pass_expr_memo_ctrl, catch_eval_exceptions, verbose, return_argmin, points_to_evaluate, max_queue_len, show_progressbar, early_stop_fn, trials_save_file)\u001B[0m\n\u001B[1;32m    583\u001B[0m rval\u001B[38;5;241m.\u001B[39mcatch_eval_exceptions \u001B[38;5;241m=\u001B[39m catch_eval_exceptions\n\u001B[1;32m    585\u001B[0m \u001B[38;5;66;03m# next line is where the fmin is actually executed\u001B[39;00m\n\u001B[0;32m--> 586\u001B[0m rval\u001B[38;5;241m.\u001B[39mexhaust()\n\u001B[1;32m    588\u001B[0m \u001B[38;5;28;01mif\u001B[39;00m return_argmin:\n\u001B[1;32m    589\u001B[0m     \u001B[38;5;28;01mif\u001B[39;00m \u001B[38;5;28mlen\u001B[39m(trials\u001B[38;5;241m.\u001B[39mtrials) \u001B[38;5;241m==\u001B[39m \u001B[38;5;241m0\u001B[39m:\n",
      "File \u001B[0;32m/opt/anaconda3/envs/ProgettoAi/lib/python3.11/site-packages/hyperopt/fmin.py:364\u001B[0m, in \u001B[0;36mFMinIter.exhaust\u001B[0;34m(self)\u001B[0m\n\u001B[1;32m    362\u001B[0m \u001B[38;5;28;01mdef\u001B[39;00m \u001B[38;5;21mexhaust\u001B[39m(\u001B[38;5;28mself\u001B[39m):\n\u001B[1;32m    363\u001B[0m     n_done \u001B[38;5;241m=\u001B[39m \u001B[38;5;28mlen\u001B[39m(\u001B[38;5;28mself\u001B[39m\u001B[38;5;241m.\u001B[39mtrials)\n\u001B[0;32m--> 364\u001B[0m     \u001B[38;5;28mself\u001B[39m\u001B[38;5;241m.\u001B[39mrun(\u001B[38;5;28mself\u001B[39m\u001B[38;5;241m.\u001B[39mmax_evals \u001B[38;5;241m-\u001B[39m n_done, block_until_done\u001B[38;5;241m=\u001B[39m\u001B[38;5;28mself\u001B[39m\u001B[38;5;241m.\u001B[39masynchronous)\n\u001B[1;32m    365\u001B[0m     \u001B[38;5;28mself\u001B[39m\u001B[38;5;241m.\u001B[39mtrials\u001B[38;5;241m.\u001B[39mrefresh()\n\u001B[1;32m    366\u001B[0m     \u001B[38;5;28;01mreturn\u001B[39;00m \u001B[38;5;28mself\u001B[39m\n",
      "File \u001B[0;32m/opt/anaconda3/envs/ProgettoAi/lib/python3.11/site-packages/hyperopt/fmin.py:278\u001B[0m, in \u001B[0;36mFMinIter.run\u001B[0;34m(self, N, block_until_done)\u001B[0m\n\u001B[1;32m    273\u001B[0m \u001B[38;5;28mself\u001B[39m\u001B[38;5;241m.\u001B[39mtrials\u001B[38;5;241m.\u001B[39mrefresh()\n\u001B[1;32m    274\u001B[0m \u001B[38;5;66;03m# Based on existing trials and the domain, use `algo` to probe in\u001B[39;00m\n\u001B[1;32m    275\u001B[0m \u001B[38;5;66;03m# new hp points. Save the results of those inspections into\u001B[39;00m\n\u001B[1;32m    276\u001B[0m \u001B[38;5;66;03m# `new_trials`. This is the core of `run`, all the rest is just\u001B[39;00m\n\u001B[1;32m    277\u001B[0m \u001B[38;5;66;03m# processes orchestration\u001B[39;00m\n\u001B[0;32m--> 278\u001B[0m new_trials \u001B[38;5;241m=\u001B[39m algo(\n\u001B[1;32m    279\u001B[0m     new_ids, \u001B[38;5;28mself\u001B[39m\u001B[38;5;241m.\u001B[39mdomain, trials, \u001B[38;5;28mself\u001B[39m\u001B[38;5;241m.\u001B[39mrstate\u001B[38;5;241m.\u001B[39mintegers(\u001B[38;5;241m2\u001B[39m \u001B[38;5;241m*\u001B[39m\u001B[38;5;241m*\u001B[39m \u001B[38;5;241m31\u001B[39m \u001B[38;5;241m-\u001B[39m \u001B[38;5;241m1\u001B[39m)\n\u001B[1;32m    280\u001B[0m )\n\u001B[1;32m    281\u001B[0m \u001B[38;5;28;01massert\u001B[39;00m \u001B[38;5;28mlen\u001B[39m(new_ids) \u001B[38;5;241m>\u001B[39m\u001B[38;5;241m=\u001B[39m \u001B[38;5;28mlen\u001B[39m(new_trials)\n\u001B[1;32m    283\u001B[0m \u001B[38;5;28;01mif\u001B[39;00m \u001B[38;5;28mlen\u001B[39m(new_trials):\n",
      "File \u001B[0;32m/opt/anaconda3/envs/ProgettoAi/lib/python3.11/site-packages/hyperopt/rand.py:19\u001B[0m, in \u001B[0;36msuggest\u001B[0;34m(new_ids, domain, trials, seed)\u001B[0m\n\u001B[1;32m     16\u001B[0m rval \u001B[38;5;241m=\u001B[39m []\n\u001B[1;32m     17\u001B[0m \u001B[38;5;28;01mfor\u001B[39;00m ii, new_id \u001B[38;5;129;01min\u001B[39;00m \u001B[38;5;28menumerate\u001B[39m(new_ids):\n\u001B[1;32m     18\u001B[0m     \u001B[38;5;66;03m# -- sample new specs, idxs, vals\u001B[39;00m\n\u001B[0;32m---> 19\u001B[0m     idxs, vals \u001B[38;5;241m=\u001B[39m pyll\u001B[38;5;241m.\u001B[39mrec_eval(\n\u001B[1;32m     20\u001B[0m         domain\u001B[38;5;241m.\u001B[39ms_idxs_vals, memo\u001B[38;5;241m=\u001B[39m{domain\u001B[38;5;241m.\u001B[39ms_new_ids: [new_id], domain\u001B[38;5;241m.\u001B[39ms_rng: rng}\n\u001B[1;32m     21\u001B[0m     )\n\u001B[1;32m     22\u001B[0m     new_result \u001B[38;5;241m=\u001B[39m domain\u001B[38;5;241m.\u001B[39mnew_result()\n\u001B[1;32m     23\u001B[0m     new_misc \u001B[38;5;241m=\u001B[39m \u001B[38;5;28mdict\u001B[39m(tid\u001B[38;5;241m=\u001B[39mnew_id, cmd\u001B[38;5;241m=\u001B[39mdomain\u001B[38;5;241m.\u001B[39mcmd, workdir\u001B[38;5;241m=\u001B[39mdomain\u001B[38;5;241m.\u001B[39mworkdir)\n",
      "File \u001B[0;32m/opt/anaconda3/envs/ProgettoAi/lib/python3.11/site-packages/hyperopt/pyll/base.py:902\u001B[0m, in \u001B[0;36mrec_eval\u001B[0;34m(expr, deepcopy_inputs, memo, max_program_len, memo_gc, print_trace, print_node_on_error)\u001B[0m\n\u001B[1;32m    899\u001B[0m     kwargs \u001B[38;5;241m=\u001B[39m copy\u001B[38;5;241m.\u001B[39mdeepcopy(_kwargs)\n\u001B[1;32m    901\u001B[0m \u001B[38;5;28;01mtry\u001B[39;00m:\n\u001B[0;32m--> 902\u001B[0m     rval \u001B[38;5;241m=\u001B[39m scope\u001B[38;5;241m.\u001B[39m_impls[node\u001B[38;5;241m.\u001B[39mname](\u001B[38;5;241m*\u001B[39margs, \u001B[38;5;241m*\u001B[39m\u001B[38;5;241m*\u001B[39mkwargs)\n\u001B[1;32m    904\u001B[0m \u001B[38;5;28;01mexcept\u001B[39;00m \u001B[38;5;167;01mException\u001B[39;00m \u001B[38;5;28;01mas\u001B[39;00m e:\n\u001B[1;32m    905\u001B[0m     \u001B[38;5;28;01mif\u001B[39;00m print_node_on_error:\n",
      "\u001B[0;31mTypeError\u001B[0m: quniform() missing 2 required positional arguments: 'high' and 'q'"
     ]
    }
   ],
   "execution_count": 43
  },
  {
   "metadata": {},
   "cell_type": "code",
   "outputs": [],
   "execution_count": null,
   "source": [
    "# print the best parameters found by hyperopt\n",
    "print(best)"
   ],
   "id": "4b3e6e8222c15764"
  },
  {
   "metadata": {},
   "cell_type": "code",
   "source": [
    "# plot and save the plots\n",
    "fig = plot_hyperopt_report(hyperopt_config[\"exp\"], (\"lr\", \"sr\", \"ridge\"), metric=\"r2\")\n",
    "fig.savefig(f\"{hyperopt_config['exp']}.png\")"
   ],
   "id": "8818f663b28db3ea",
   "outputs": [],
   "execution_count": null
  }
 ],
 "metadata": {
  "kernelspec": {
   "display_name": "Python 3",
   "language": "python",
   "name": "python3"
  },
  "language_info": {
   "codemirror_mode": {
    "name": "ipython",
    "version": 2
   },
   "file_extension": ".py",
   "mimetype": "text/x-python",
   "name": "python",
   "nbconvert_exporter": "python",
   "pygments_lexer": "ipython2",
   "version": "2.7.6"
  }
 },
 "nbformat": 4,
 "nbformat_minor": 5
}
