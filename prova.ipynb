{
 "cells": [
  {
   "cell_type": "code",
   "id": "initial_id",
   "metadata": {
    "collapsed": true,
    "ExecuteTime": {
     "end_time": "2024-05-23T19:31:04.498244Z",
     "start_time": "2024-05-23T19:31:03.512048Z"
    }
   },
   "source": [
    "import pandas as pd\n",
    "import matplotlib.pyplot as plt\n",
    "import matplotlib.animation as animation"
   ],
   "execution_count": 3,
   "outputs": []
  },
  {
   "metadata": {
    "ExecuteTime": {
     "end_time": "2024-05-23T19:36:36.474663Z",
     "start_time": "2024-05-23T19:36:30.992339Z"
    }
   },
   "cell_type": "code",
   "source": "data = pd.read_csv('TBP_dataset.csv')  # Update with the correct path",
   "id": "80854f4e48a18302",
   "execution_count": 14,
   "outputs": []
  },
  {
   "metadata": {
    "ExecuteTime": {
     "end_time": "2024-05-23T19:41:44.429761Z",
     "start_time": "2024-05-23T19:41:44.426447Z"
    }
   },
   "cell_type": "code",
   "source": "r1_x = data['r1_x'].values.reshape(-1, 1000000)",
   "id": "62026a093dd6b744",
   "execution_count": 25,
   "outputs": []
  },
  {
   "metadata": {
    "ExecuteTime": {
     "end_time": "2024-05-23T19:41:45.300524Z",
     "start_time": "2024-05-23T19:41:45.293840Z"
    }
   },
   "cell_type": "code",
   "source": "r1_x.shape",
   "id": "470c454b0b3f6ea3",
   "execution_count": 26,
   "outputs": []
  },
  {
   "metadata": {
    "ExecuteTime": {
     "end_time": "2024-05-23T19:41:30.646159Z",
     "start_time": "2024-05-23T19:41:30.639661Z"
    }
   },
   "cell_type": "code",
   "source": "data['r1_x'].shape",
   "id": "be8c59c0aaf079e4",
   "execution_count": 24,
   "outputs": []
  },
  {
   "metadata": {},
   "cell_type": "code",
   "execution_count": null,
   "source": "",
   "id": "9ffe763727cb11c7",
   "outputs": []
  }
 ],
 "metadata": {
  "kernelspec": {
   "display_name": "Python 3",
   "language": "python",
   "name": "python3"
  },
  "language_info": {
   "codemirror_mode": {
    "name": "ipython",
    "version": 2
   },
   "file_extension": ".py",
   "mimetype": "text/x-python",
   "name": "python",
   "nbconvert_exporter": "python",
   "pygments_lexer": "ipython2",
   "version": "2.7.6"
  }
 },
 "nbformat": 4,
 "nbformat_minor": 5
}
